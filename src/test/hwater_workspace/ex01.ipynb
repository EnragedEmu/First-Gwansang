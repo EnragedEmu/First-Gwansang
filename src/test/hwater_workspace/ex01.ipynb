{
 "cells": [
  {
   "cell_type": "code",
   "execution_count": null,
   "metadata": {},
   "outputs": [],
   "source": [
    "import torch\n",
    "import torch.nn as nn\n",
    "import torch.nn.functional as F\n",
    "import torchvision"
   ]
  },
  {
   "cell_type": "code",
   "execution_count": null,
   "metadata": {},
   "outputs": [],
   "source": [
    "'''\n",
    "import sys, os\n",
    "cur_dir = os.getcwd()\n",
    "test_dir = os.path.join(cur_dir, os.pardir)\n",
    "src_dir = os.path.join(test_dir, os.pardir)\n",
    "FirstGwansang_dir = os.path.join(src_dir, os.pardir)\n",
    "Gits_dir = os.path.abspath(os.path.join(FirstGwansang_dir, os.pardir))\n",
    "print(Gits_dir)\n",
    "'''"
   ]
  },
  {
   "cell_type": "code",
   "execution_count": null,
   "metadata": {},
   "outputs": [],
   "source": [
    "'''\n",
    "sys.path.append(Gits_dir)\n",
    "\n",
    "list_attr_celeba_path = os.path.join(Gits_dir, 'CelebA/Anno/list_attr_celeba.txt')\n",
    "\n",
    "with open(list_attr_celeba_path, 'r') as list_attr_celeba:\n",
    "    data_num = int(list_attr_celeba.readline())\n",
    "    list_attr_data = list_attr_celeba.read()\n",
    "    print(data_num)'''"
   ]
  },
  {
   "cell_type": "code",
   "execution_count": null,
   "metadata": {},
   "outputs": [],
   "source": [
    "#print(list_attr_data)"
   ]
  },
  {
   "cell_type": "code",
   "execution_count": null,
   "metadata": {},
   "outputs": [],
   "source": [
    "#type(list_attr_data)"
   ]
  },
  {
   "cell_type": "code",
   "execution_count": null,
   "metadata": {},
   "outputs": [],
   "source": [
    "import pandas as pd\n",
    "import numpy as np\n",
    "import csv"
   ]
  },
  {
   "cell_type": "code",
   "execution_count": null,
   "metadata": {},
   "outputs": [],
   "source": []
  }
 ],
 "metadata": {
  "kernelspec": {
   "display_name": "Python 3",
   "language": "python",
   "name": "python3"
  },
  "language_info": {
   "codemirror_mode": {
    "name": "ipython",
    "version": 3
   },
   "file_extension": ".py",
   "mimetype": "text/x-python",
   "name": "python",
   "nbconvert_exporter": "python",
   "pygments_lexer": "ipython3",
   "version": "3.11.3"
  },
  "orig_nbformat": 4
 },
 "nbformat": 4,
 "nbformat_minor": 2
}
