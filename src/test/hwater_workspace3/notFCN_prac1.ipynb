{
 "cells": [
  {
   "cell_type": "code",
   "execution_count": 109,
   "metadata": {},
   "outputs": [],
   "source": [
    "import torch\n",
    "import torch.nn as nn\n",
    "import torch.nn.functional as F\n",
    "import torchvision\n",
    "import torchvision.transforms as tfs\n",
    "\n",
    "import numpy as np\n",
    "import matplotlib.pyplot as plt\n",
    "import pandas as pd"
   ]
  },
  {
   "cell_type": "code",
   "execution_count": 110,
   "metadata": {},
   "outputs": [],
   "source": [
    "import sys, os\n",
    "cur_dir = os.getcwd()\n",
    "test_dir = os.path.join(cur_dir, os.pardir)\n",
    "src_dir = os.path.join(test_dir, os.pardir)\n",
    "sys.path.append(os.path.abspath(src_dir))"
   ]
  },
  {
   "cell_type": "code",
   "execution_count": 111,
   "metadata": {},
   "outputs": [],
   "source": [
    "from data.processed.CelebA_1024.call_celeba import CelebALoader\n",
    "cl = CelebALoader()"
   ]
  },
  {
   "cell_type": "code",
   "execution_count": 157,
   "metadata": {},
   "outputs": [],
   "source": [
    "class CNN(nn.Module):\n",
    "    def __init__(self):\n",
    "        super(CNN, self).__init__()\n",
    "        self.layer1 = nn.Sequential(nn.Conv2d(1, 32, kernel_size=3, stride=1, padding=1),\n",
    "                                    nn.GELU(),\n",
    "                                    nn.MaxPool2d(kernel_size=2, stride=2))\n",
    "        self.layer2 = nn.Sequential(nn.Conv2d(32, 64, kernel_size=3, stride=1, padding=1),\n",
    "                                    nn.GELU(),\n",
    "                                    nn.MaxPool2d(kernel_size=2, stride=2))\n",
    "        self.fc = nn.Linear(152064, 4)\n",
    "\n",
    "        nn.init.xavier_uniform_(self.fc.weight)\n",
    "\n",
    "    def forward(self, x):\n",
    "        out = self.layer1(x)\n",
    "        out = self.layer2(out)\n",
    "        out = out.view(out.size(0), -1)\n",
    "        out = self.fc(out)\n",
    "        return out     \n",
    "\n",
    "    def predict_mbti(self, x):\n",
    "        out = self.forward(x).squeeze(0)\n",
    "        out = out - 0.5\n",
    "\n",
    "        m = 'E' if out[0] > 0 else 'I'\n",
    "        b = 'N' if out[1] > 0 else 'S'\n",
    "        t = 'F' if out[2] > 0 else 'T'\n",
    "        i = 'J' if out[3] > 0 else 'P'\n",
    "        mbti = '{}{}{}{}'.format(m, b, t, i)\n",
    "        return mbti\n"
   ]
  },
  {
   "cell_type": "code",
   "execution_count": 158,
   "metadata": {},
   "outputs": [],
   "source": [
    "model = CNN()"
   ]
  },
  {
   "cell_type": "code",
   "execution_count": 159,
   "metadata": {},
   "outputs": [],
   "source": [
    "los = nn.CrossEntropyLoss()\n",
    "opt = torch.optim.Adam(model.parameters())"
   ]
  },
  {
   "cell_type": "code",
   "execution_count": 166,
   "metadata": {},
   "outputs": [
    {
     "name": "stdout",
     "output_type": "stream",
     "text": [
      "20.15863037109375\n",
      "12.447321891784668\n",
      "12.754327774047852\n",
      "14.052033424377441\n",
      "19.232568740844727\n"
     ]
    }
   ],
   "source": [
    "for epoch in range(5):\n",
    "    opt.zero_grad()\n",
    "\n",
    "    hypothesis = model(torch.randn(size=(1, 1, 218, 178)))\n",
    "    y = torch.Tensor([[.5, .5, .5, .5]])\n",
    "    cost = los(hypothesis, y)\n",
    "    cost.backward()\n",
    "    opt.step()\n",
    "\n",
    "    print(cost.item())"
   ]
  },
  {
   "cell_type": "code",
   "execution_count": 167,
   "metadata": {},
   "outputs": [],
   "source": [
    "img1 = cl.load_img(startIdx=1, endIdx=1, gray=True)[0].unsqueeze(0).unsqueeze(0)\n",
    "img2 = cl.load_img(startIdx=2, endIdx=2, gray=True)[0].unsqueeze(0).unsqueeze(0)"
   ]
  },
  {
   "cell_type": "code",
   "execution_count": 168,
   "metadata": {},
   "outputs": [
    {
     "data": {
      "text/plain": [
       "tensor([[ 1.0463, -2.3747,  1.6960,  1.3798]], grad_fn=<AddmmBackward0>)"
      ]
     },
     "execution_count": 168,
     "metadata": {},
     "output_type": "execute_result"
    }
   ],
   "source": [
    "model.forward(img2)"
   ]
  },
  {
   "cell_type": "code",
   "execution_count": 169,
   "metadata": {},
   "outputs": [
    {
     "data": {
      "text/plain": [
       "'ISFP'"
      ]
     },
     "execution_count": 169,
     "metadata": {},
     "output_type": "execute_result"
    }
   ],
   "source": [
    "model.predict_mbti(img1)"
   ]
  },
  {
   "cell_type": "code",
   "execution_count": 170,
   "metadata": {},
   "outputs": [
    {
     "data": {
      "text/plain": [
       "'ESFJ'"
      ]
     },
     "execution_count": 170,
     "metadata": {},
     "output_type": "execute_result"
    }
   ],
   "source": [
    "model.predict_mbti(img2)"
   ]
  },
  {
   "cell_type": "code",
   "execution_count": 171,
   "metadata": {},
   "outputs": [
    {
     "name": "stdout",
     "output_type": "stream",
     "text": [
      "ISFP\n",
      "ESFJ\n",
      "ISFJ\n",
      "ESFJ\n",
      "ISFP\n",
      "ISFP\n",
      "ISFP\n",
      "ESFJ\n"
     ]
    },
    {
     "name": "stdout",
     "output_type": "stream",
     "text": [
      "ESFJ\n",
      "ESFJ\n"
     ]
    }
   ],
   "source": [
    "for n in range(10):\n",
    "    img_n = cl.load_img(startIdx=n+1, endIdx=n+1, gray=True)[0].unsqueeze(0).unsqueeze(0)\n",
    "    print(model.predict_mbti(img_n))"
   ]
  },
  {
   "cell_type": "code",
   "execution_count": null,
   "metadata": {},
   "outputs": [],
   "source": []
  }
 ],
 "metadata": {
  "kernelspec": {
   "display_name": "Python 3",
   "language": "python",
   "name": "python3"
  },
  "language_info": {
   "codemirror_mode": {
    "name": "ipython",
    "version": 3
   },
   "file_extension": ".py",
   "mimetype": "text/x-python",
   "name": "python",
   "nbconvert_exporter": "python",
   "pygments_lexer": "ipython3",
   "version": "3.11.3"
  },
  "orig_nbformat": 4
 },
 "nbformat": 4,
 "nbformat_minor": 2
}
