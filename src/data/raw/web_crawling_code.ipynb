{
 "cells": [
  {
   "cell_type": "code",
   "execution_count": 35,
   "outputs": [
    {
     "name": "stdout",
     "output_type": "stream",
     "text": [
      "가비(댄서)\n"
     ]
    }
   ],
   "source": [
    "import pandas as pd\n",
    "\n",
    "file_name = 'mbti.xlsx'\n",
    "df = pd.read_excel(file_name)\n",
    "name = df['이름']\n",
    "print(name[0])"
   ],
   "metadata": {
    "collapsed": false
   }
  },
  {
   "cell_type": "code",
   "execution_count": 106,
   "outputs": [
    {
     "name": "stdout",
     "output_type": "stream",
     "text": [
      "https://namu.wiki/w/%EC%9C%A0%EC%9E%AC%EC%84%9D\n"
     ]
    },
    {
     "data": {
      "text/plain": "'1972년'"
     },
     "execution_count": 106,
     "metadata": {},
     "output_type": "execute_result"
    }
   ],
   "source": [
    "from selenium import webdriver\n",
    "from urllib import parse\n",
    "from selenium.webdriver.common.by import By\n",
    "\n",
    "def age_finder(x):\n",
    "    address = \"https://namu.wiki/w/\"+parse.quote(x)\n",
    "    print(address)\n",
    "    driver = webdriver.Chrome()\n",
    "    driver.get(address)\n",
    "    driver.implicitly_wait(time_to_wait=5)\n",
    "    element = driver.find_element(By.XPATH,'//*[@id=\"Lsh9DSwpm\"]/div[2]/div/div/div/div/div/div/div[1]/div[7]/div/div/div/div/div/div/div[3]/div/div/div/div/div/div/div/div/div/div[6]/div[1]/div/div[4]/table/tbody/tr[3]/td[2]/div/a[1]').text\n",
    "    driver.quit()\n",
    "    return element\n",
    "\n",
    "age_finder('유재석')\n",
    "#age = []\n",
    "#for i in name[:10]:\n",
    "#    temp = age_finder(i)\n",
    "#    print(temp)\n",
    "#    age.append(temp)"
   ],
   "metadata": {
    "collapsed": false
   }
  },
  {
   "cell_type": "markdown",
   "source": [],
   "metadata": {
    "collapsed": false
   }
  }
 ],
 "metadata": {
  "kernelspec": {
   "display_name": "Python 3",
   "language": "python",
   "name": "python3"
  },
  "language_info": {
   "codemirror_mode": {
    "name": "ipython",
    "version": 2
   },
   "file_extension": ".py",
   "mimetype": "text/x-python",
   "name": "python",
   "nbconvert_exporter": "python",
   "pygments_lexer": "ipython2",
   "version": "2.7.6"
  }
 },
 "nbformat": 4,
 "nbformat_minor": 0
}
