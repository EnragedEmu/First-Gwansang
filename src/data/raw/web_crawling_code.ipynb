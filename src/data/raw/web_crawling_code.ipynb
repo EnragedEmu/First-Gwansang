{
 "cells": [
  {
   "cell_type": "code",
   "execution_count": 6,
   "metadata": {
    "collapsed": false
   },
   "outputs": [
    {
     "name": "stdout",
     "output_type": "stream",
     "text": [
      "가비(댄서)\n"
     ]
    }
   ],
   "source": [
    "import pandas as pd\n",
    "\n",
    "file_name = 'mbti.xlsx'\n",
    "df = pd.read_excel(file_name)\n",
    "name = df['이름']\n",
    "print(name[0])"
   ]
  },
  {
   "cell_type": "code",
   "execution_count": 8,
   "metadata": {
    "collapsed": false
   },
   "outputs": [
    {
     "name": "stdout",
     "output_type": "stream",
     "text": [
      "https://namu.wiki/w/%EC%9C%A0%EC%9E%AC%EC%84%9D\n"
     ]
    },
    {
     "ename": "NoSuchElementException",
     "evalue": "Message: no such element: Unable to locate element: {\"method\":\"xpath\",\"selector\":\"//*[@id=\"Lsh9DSwpm\"]/div[2]/div/div/div/div/div/div/div[1]/div[7]/div/div/div/div/div/div/div[3]/div/div/div/div/div/div/div/div/div/div[6]/div[1]/div/div[4]/table/tbody/tr[3]/td[2]/div/a[1]\"}\n  (Session info: chrome=114.0.5735.199); For documentation on this error, please visit: https://www.selenium.dev/documentation/webdriver/troubleshooting/errors#no-such-element-exception\nStacktrace:\nBacktrace:\n\tGetHandleVerifier [0x00EF6E73+48323]\n\t(No symbol) [0x00E89661]\n\t(No symbol) [0x00D95308]\n\t(No symbol) [0x00DC0B45]\n\t(No symbol) [0x00DC0CDB]\n\t(No symbol) [0x00DEE3D2]\n\t(No symbol) [0x00DDA924]\n\t(No symbol) [0x00DECAC2]\n\t(No symbol) [0x00DDA6D6]\n\t(No symbol) [0x00DB847C]\n\t(No symbol) [0x00DB957D]\n\tGetHandleVerifier [0x0115FD5D+2575277]\n\tGetHandleVerifier [0x0119F86E+2836158]\n\tGetHandleVerifier [0x011996DC+2811180]\n\tGetHandleVerifier [0x00F841B0+626688]\n\t(No symbol) [0x00E9314C]\n\t(No symbol) [0x00E8F4B8]\n\t(No symbol) [0x00E8F59B]\n\t(No symbol) [0x00E821B7]\n\tBaseThreadInitThunk [0x758300C9+25]\n\tRtlGetAppContainerNamedObjectPath [0x77647B4E+286]\n\tRtlGetAppContainerNamedObjectPath [0x77647B1E+238]\n",
     "output_type": "error",
     "traceback": [
      "\u001b[1;31m---------------------------------------------------------------------------\u001b[0m",
      "\u001b[1;31mNoSuchElementException\u001b[0m                    Traceback (most recent call last)",
      "Cell \u001b[1;32mIn[8], line 15\u001b[0m\n\u001b[0;32m     12\u001b[0m     driver\u001b[39m.\u001b[39mquit()\n\u001b[0;32m     13\u001b[0m     \u001b[39mreturn\u001b[39;00m element\n\u001b[1;32m---> 15\u001b[0m age_finder(\u001b[39m'\u001b[39;49m\u001b[39m유재석\u001b[39;49m\u001b[39m'\u001b[39;49m)\n\u001b[0;32m     16\u001b[0m \u001b[39m#age = []\u001b[39;00m\n\u001b[0;32m     17\u001b[0m \u001b[39m#for i in name[:10]:\u001b[39;00m\n\u001b[0;32m     18\u001b[0m \u001b[39m#    temp = age_finder(i)\u001b[39;00m\n\u001b[0;32m     19\u001b[0m \u001b[39m#    print(temp)\u001b[39;00m\n\u001b[0;32m     20\u001b[0m \u001b[39m#    age.append(temp)\u001b[39;00m\n",
      "Cell \u001b[1;32mIn[8], line 11\u001b[0m, in \u001b[0;36mage_finder\u001b[1;34m(x)\u001b[0m\n\u001b[0;32m      9\u001b[0m driver\u001b[39m.\u001b[39mget(address)\n\u001b[0;32m     10\u001b[0m driver\u001b[39m.\u001b[39mimplicitly_wait(time_to_wait\u001b[39m=\u001b[39m\u001b[39m5\u001b[39m)\n\u001b[1;32m---> 11\u001b[0m element \u001b[39m=\u001b[39m driver\u001b[39m.\u001b[39;49mfind_element(By\u001b[39m.\u001b[39;49mXPATH,\u001b[39m'\u001b[39;49m\u001b[39m//*[@id=\u001b[39;49m\u001b[39m\"\u001b[39;49m\u001b[39mLsh9DSwpm\u001b[39;49m\u001b[39m\"\u001b[39;49m\u001b[39m]/div[2]/div/div/div/div/div/div/div[1]/div[7]/div/div/div/div/div/div/div[3]/div/div/div/div/div/div/div/div/div/div[6]/div[1]/div/div[4]/table/tbody/tr[3]/td[2]/div/a[1]\u001b[39;49m\u001b[39m'\u001b[39;49m)\u001b[39m.\u001b[39mtext\n\u001b[0;32m     12\u001b[0m driver\u001b[39m.\u001b[39mquit()\n\u001b[0;32m     13\u001b[0m \u001b[39mreturn\u001b[39;00m element\n",
      "File \u001b[1;32mc:\\Users\\82103\\AppData\\Local\\Programs\\Python\\Python311\\Lib\\site-packages\\selenium\\webdriver\\remote\\webdriver.py:740\u001b[0m, in \u001b[0;36mWebDriver.find_element\u001b[1;34m(self, by, value)\u001b[0m\n\u001b[0;32m    737\u001b[0m     by \u001b[39m=\u001b[39m By\u001b[39m.\u001b[39mCSS_SELECTOR\n\u001b[0;32m    738\u001b[0m     value \u001b[39m=\u001b[39m \u001b[39mf\u001b[39m\u001b[39m'\u001b[39m\u001b[39m[name=\u001b[39m\u001b[39m\"\u001b[39m\u001b[39m{\u001b[39;00mvalue\u001b[39m}\u001b[39;00m\u001b[39m\"\u001b[39m\u001b[39m]\u001b[39m\u001b[39m'\u001b[39m\n\u001b[1;32m--> 740\u001b[0m \u001b[39mreturn\u001b[39;00m \u001b[39mself\u001b[39;49m\u001b[39m.\u001b[39;49mexecute(Command\u001b[39m.\u001b[39;49mFIND_ELEMENT, {\u001b[39m\"\u001b[39;49m\u001b[39musing\u001b[39;49m\u001b[39m\"\u001b[39;49m: by, \u001b[39m\"\u001b[39;49m\u001b[39mvalue\u001b[39;49m\u001b[39m\"\u001b[39;49m: value})[\u001b[39m\"\u001b[39m\u001b[39mvalue\u001b[39m\u001b[39m\"\u001b[39m]\n",
      "File \u001b[1;32mc:\\Users\\82103\\AppData\\Local\\Programs\\Python\\Python311\\Lib\\site-packages\\selenium\\webdriver\\remote\\webdriver.py:346\u001b[0m, in \u001b[0;36mWebDriver.execute\u001b[1;34m(self, driver_command, params)\u001b[0m\n\u001b[0;32m    344\u001b[0m response \u001b[39m=\u001b[39m \u001b[39mself\u001b[39m\u001b[39m.\u001b[39mcommand_executor\u001b[39m.\u001b[39mexecute(driver_command, params)\n\u001b[0;32m    345\u001b[0m \u001b[39mif\u001b[39;00m response:\n\u001b[1;32m--> 346\u001b[0m     \u001b[39mself\u001b[39;49m\u001b[39m.\u001b[39;49merror_handler\u001b[39m.\u001b[39;49mcheck_response(response)\n\u001b[0;32m    347\u001b[0m     response[\u001b[39m\"\u001b[39m\u001b[39mvalue\u001b[39m\u001b[39m\"\u001b[39m] \u001b[39m=\u001b[39m \u001b[39mself\u001b[39m\u001b[39m.\u001b[39m_unwrap_value(response\u001b[39m.\u001b[39mget(\u001b[39m\"\u001b[39m\u001b[39mvalue\u001b[39m\u001b[39m\"\u001b[39m, \u001b[39mNone\u001b[39;00m))\n\u001b[0;32m    348\u001b[0m     \u001b[39mreturn\u001b[39;00m response\n",
      "File \u001b[1;32mc:\\Users\\82103\\AppData\\Local\\Programs\\Python\\Python311\\Lib\\site-packages\\selenium\\webdriver\\remote\\errorhandler.py:245\u001b[0m, in \u001b[0;36mErrorHandler.check_response\u001b[1;34m(self, response)\u001b[0m\n\u001b[0;32m    243\u001b[0m         alert_text \u001b[39m=\u001b[39m value[\u001b[39m\"\u001b[39m\u001b[39malert\u001b[39m\u001b[39m\"\u001b[39m]\u001b[39m.\u001b[39mget(\u001b[39m\"\u001b[39m\u001b[39mtext\u001b[39m\u001b[39m\"\u001b[39m)\n\u001b[0;32m    244\u001b[0m     \u001b[39mraise\u001b[39;00m exception_class(message, screen, stacktrace, alert_text)  \u001b[39m# type: ignore[call-arg]  # mypy is not smart enough here\u001b[39;00m\n\u001b[1;32m--> 245\u001b[0m \u001b[39mraise\u001b[39;00m exception_class(message, screen, stacktrace)\n",
      "\u001b[1;31mNoSuchElementException\u001b[0m: Message: no such element: Unable to locate element: {\"method\":\"xpath\",\"selector\":\"//*[@id=\"Lsh9DSwpm\"]/div[2]/div/div/div/div/div/div/div[1]/div[7]/div/div/div/div/div/div/div[3]/div/div/div/div/div/div/div/div/div/div[6]/div[1]/div/div[4]/table/tbody/tr[3]/td[2]/div/a[1]\"}\n  (Session info: chrome=114.0.5735.199); For documentation on this error, please visit: https://www.selenium.dev/documentation/webdriver/troubleshooting/errors#no-such-element-exception\nStacktrace:\nBacktrace:\n\tGetHandleVerifier [0x00EF6E73+48323]\n\t(No symbol) [0x00E89661]\n\t(No symbol) [0x00D95308]\n\t(No symbol) [0x00DC0B45]\n\t(No symbol) [0x00DC0CDB]\n\t(No symbol) [0x00DEE3D2]\n\t(No symbol) [0x00DDA924]\n\t(No symbol) [0x00DECAC2]\n\t(No symbol) [0x00DDA6D6]\n\t(No symbol) [0x00DB847C]\n\t(No symbol) [0x00DB957D]\n\tGetHandleVerifier [0x0115FD5D+2575277]\n\tGetHandleVerifier [0x0119F86E+2836158]\n\tGetHandleVerifier [0x011996DC+2811180]\n\tGetHandleVerifier [0x00F841B0+626688]\n\t(No symbol) [0x00E9314C]\n\t(No symbol) [0x00E8F4B8]\n\t(No symbol) [0x00E8F59B]\n\t(No symbol) [0x00E821B7]\n\tBaseThreadInitThunk [0x758300C9+25]\n\tRtlGetAppContainerNamedObjectPath [0x77647B4E+286]\n\tRtlGetAppContainerNamedObjectPath [0x77647B1E+238]\n"
     ]
    }
   ],
   "source": [
    "from selenium import webdriver\n",
    "from urllib import parse\n",
    "from selenium.webdriver.common.by import By\n",
    "\n",
    "def age_finder(x):\n",
    "    address = \"https://namu.wiki/w/\"+parse.quote(x)\n",
    "    print(address)\n",
    "    driver = webdriver.Chrome()\n",
    "    driver.get(address)\n",
    "    driver.implicitly_wait(time_to_wait=5)\n",
    "    element = driver.find_element(By.XPATH,'//*[@id=\"Lsh9DSwpm\"]/div[2]/div/div/div/div/div/div/div[1]/div[7]/div/div/div/div/div/div/div[3]/div/div/div/div/div/div/div/div/div/div[6]/div[1]/div/div[4]/table/tbody/tr[3]/td[2]/div/a[1]').text\n",
    "    driver.quit()\n",
    "    return element\n",
    "\n",
    "age_finder('유재석')\n",
    "age = []\n",
    "for i in name[:10]:\n",
    "    temp = age_finder(i)\n",
    "    print(temp)\n",
    "    age.append(temp)"
   ]
  },
  {
   "cell_type": "code",
   "execution_count": null,
   "metadata": {},
   "outputs": [],
   "source": [
    "age_finder('유재석')"
   ]
  },
  {
   "cell_type": "code",
   "execution_count": null,
   "metadata": {},
   "outputs": [],
   "source": [
    "age_finder('')"
   ]
  },
  {
   "attachments": {},
   "cell_type": "markdown",
   "metadata": {
    "collapsed": false
   },
   "source": []
  }
 ],
 "metadata": {
  "kernelspec": {
   "display_name": "Python 3",
   "language": "python",
   "name": "python3"
  },
  "language_info": {
   "codemirror_mode": {
    "name": "ipython",
    "version": 3
   },
   "file_extension": ".py",
   "mimetype": "text/x-python",
   "name": "python",
   "nbconvert_exporter": "python",
   "pygments_lexer": "ipython3",
   "version": "3.11.3"
  }
 },
 "nbformat": 4,
 "nbformat_minor": 0
}
